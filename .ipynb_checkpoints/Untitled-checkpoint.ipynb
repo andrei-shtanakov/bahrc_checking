{
 "cells": [
  {
   "cell_type": "code",
   "execution_count": 1,
   "id": "96a6377d-1d8f-4aaf-bb9a-9d8b73579444",
   "metadata": {},
   "outputs": [],
   "source": [
    "import re\n",
    "import torch\n",
    "from transformers import AutoTokenizer, AutoModel\n",
    "import matplotlib.pyplot as plt\n",
    "import seaborn as sns"
   ]
  },
  {
   "cell_type": "code",
   "execution_count": 2,
   "id": "6eaa97e3-3b8d-4ed2-9300-6594a78b3796",
   "metadata": {},
   "outputs": [
    {
     "data": {
      "application/vnd.jupyter.widget-view+json": {
       "model_id": "4a51460b564f414cb1820f769f6c0383",
       "version_major": 2,
       "version_minor": 0
      },
      "text/plain": [
       "tokenizer_config.json:   0%|          | 0.00/25.0 [00:00<?, ?B/s]"
      ]
     },
     "metadata": {},
     "output_type": "display_data"
    },
    {
     "data": {
      "application/vnd.jupyter.widget-view+json": {
       "model_id": "414e5301ac9649968a607501397b9394",
       "version_major": 2,
       "version_minor": 0
      },
      "text/plain": [
       "config.json:   0%|          | 0.00/498 [00:00<?, ?B/s]"
      ]
     },
     "metadata": {},
     "output_type": "display_data"
    },
    {
     "data": {
      "application/vnd.jupyter.widget-view+json": {
       "model_id": "ae498b05fb644c7bbeddde69e95d18c1",
       "version_major": 2,
       "version_minor": 0
      },
      "text/plain": [
       "vocab.json:   0%|          | 0.00/899k [00:00<?, ?B/s]"
      ]
     },
     "metadata": {},
     "output_type": "display_data"
    },
    {
     "data": {
      "application/vnd.jupyter.widget-view+json": {
       "model_id": "2f4702d5d2934d48852cfb05fa468f6c",
       "version_major": 2,
       "version_minor": 0
      },
      "text/plain": [
       "merges.txt:   0%|          | 0.00/456k [00:00<?, ?B/s]"
      ]
     },
     "metadata": {},
     "output_type": "display_data"
    },
    {
     "data": {
      "application/vnd.jupyter.widget-view+json": {
       "model_id": "b0784e1f765b48efa8b6a783a2f469b6",
       "version_major": 2,
       "version_minor": 0
      },
      "text/plain": [
       "special_tokens_map.json:   0%|          | 0.00/150 [00:00<?, ?B/s]"
      ]
     },
     "metadata": {},
     "output_type": "display_data"
    },
    {
     "data": {
      "application/vnd.jupyter.widget-view+json": {
       "model_id": "cd048200ba4840b283e5ad36d49c221b",
       "version_major": 2,
       "version_minor": 0
      },
      "text/plain": [
       "pytorch_model.bin:   0%|          | 0.00/499M [00:00<?, ?B/s]"
      ]
     },
     "metadata": {},
     "output_type": "display_data"
    }
   ],
   "source": [
    "tokenizer = AutoTokenizer.from_pretrained(\"microsoft/codebert-base\")\n",
    "model = AutoModel.from_pretrained(\"microsoft/codebert-base\")"
   ]
  },
  {
   "cell_type": "code",
   "execution_count": 3,
   "id": "3ce43d83-ff7f-4e63-b9a4-d4f3afead373",
   "metadata": {},
   "outputs": [],
   "source": [
    "def get_embedding(text):\n",
    "    inputs = tokenizer(text, return_tensors=\"pt\", truncation=True, max_length=512, padding=True)\n",
    "    with torch.no_grad():\n",
    "        outputs = model(**inputs)\n",
    "    return outputs.last_hidden_state.mean(dim=1)\n",
    "\n",
    "def categorize_bashrc(file_content):\n",
    "    categories = {\n",
    "        'environment_vars': [],\n",
    "        'aliases': [],\n",
    "        'functions': [],\n",
    "        'module_loads': [],\n",
    "        'path_modifications': [],\n",
    "        'other': []\n",
    "    }\n",
    "    \n",
    "    lines = file_content.split('\\n')\n",
    "    current_function = None\n",
    "    \n",
    "    for line in lines:\n",
    "        line = line.strip()\n",
    "        if not line or line.startswith('#'):\n",
    "            continue\n",
    "        \n",
    "        if line.startswith('export '):\n",
    "            if 'PATH' in line:\n",
    "                categories['path_modifications'].append(line)\n",
    "            else:\n",
    "                categories['environment_vars'].append(line)\n",
    "        elif line.startswith('alias '):\n",
    "            categories['aliases'].append(line)\n",
    "        elif line.startswith('function ') or line.endswith(' () {'):\n",
    "            current_function = line\n",
    "        elif current_function:\n",
    "            if line == '}':\n",
    "                categories['functions'].append(current_function)\n",
    "                current_function = None\n",
    "            else:\n",
    "                current_function += '\\n' + line\n",
    "        elif 'module load' in line or 'source' in line:\n",
    "            categories['module_loads'].append(line)\n",
    "        else:\n",
    "            categories['other'].append(line)\n",
    "    \n",
    "    return categories\n",
    "\n",
    "def analyze_category(category_content, incorrect_examples, threshold=0.8):\n",
    "    anomalies = []\n",
    "    category_text = '\\n'.join(category_content)\n",
    "    category_emb = get_embedding(category_text)\n",
    "    \n",
    "    incorrect_embeddings = [get_embedding(ex) for ex in incorrect_examples]\n",
    "    \n",
    "    max_similarity = max(torch.cosine_similarity(category_emb, inc_emb, dim=1).item() \n",
    "                         for inc_emb in incorrect_embeddings)\n",
    "    \n",
    "    if max_similarity > threshold:\n",
    "        anomalies.append((category_text, max_similarity))\n",
    "    \n",
    "    return anomalies\n",
    "\n",
    "def analyze_bashrc(file_content, incorrect_examples, threshold=0.8):\n",
    "    categories = categorize_bashrc(file_content)\n",
    "    all_anomalies = {}\n",
    "    \n",
    "    for category, content in categories.items():\n",
    "        if content:\n",
    "            anomalies = analyze_category(content, incorrect_examples, threshold)\n",
    "            if anomalies:\n",
    "                all_anomalies[category] = anomalies\n",
    "    \n",
    "    return all_anomalies"
   ]
  },
  {
   "cell_type": "code",
   "execution_count": 4,
   "id": "609444e3-a445-43dd-9bd6-ec52e55cf4b4",
   "metadata": {},
   "outputs": [],
   "source": [
    "incorrect_examples = [\n",
    "    \"export PATH=/usr/bin\",\n",
    "    \"alias rm='rm -rf /'\",\n",
    "    \"function delete_all() { rm -rf /; }\",\n",
    "    \"module load malicious_module\",\n",
    "    \"export EDITOR='vim && echo pwned >> ~/.bashrc'\"\n",
    "]\n",
    "\n",
    "bashrc_content = \"\"\"\n",
    "# Set environment variables\n",
    "export PATH=$PATH:/usr/local/bin\n",
    "export EDITOR=vim\n",
    "\n",
    "# Aliases\n",
    "alias ll='ls -la'\n",
    "alias grep='grep --color=auto'\n",
    "\n",
    "# Functions\n",
    "function update_system() {\n",
    "    sudo apt update && sudo apt upgrade -y\n",
    "}\n",
    "\n",
    "# Load modules\n",
    "source ~/.bash_profile\n",
    "module load python/3.9\n",
    "\n",
    "# Other\n",
    "echo \"Welcome to the system!\"\n",
    "\n",
    "# Potentially problematic line\n",
    "alias delete='rm -rf /'\n",
    "\"\"\""
   ]
  },
  {
   "cell_type": "code",
   "execution_count": 5,
   "id": "46877e7d-4d8b-4b55-ae6e-2e99bd19435b",
   "metadata": {},
   "outputs": [
    {
     "name": "stdout",
     "output_type": "stream",
     "text": [
      "Анализ .bashrc файла:\n",
      "Обнаружены аномалии:\n",
      "\n",
      "Категория: environment_vars\n",
      "Сходство: 0.97\n",
      "Содержание:\n",
      "export EDITOR=vim\n",
      "\n",
      "\n",
      "Категория: aliases\n",
      "Сходство: 0.98\n",
      "Содержание:\n",
      "alias ll='ls -la'\n",
      "alias grep='grep --color=auto'\n",
      "alias delete='rm -rf /'\n",
      "\n",
      "\n",
      "Категория: functions\n",
      "Сходство: 0.99\n",
      "Содержание:\n",
      "function update_system() {\n",
      "sudo apt update && sudo apt upgrade -y\n",
      "\n",
      "\n",
      "Категория: module_loads\n",
      "Сходство: 0.98\n",
      "Содержание:\n",
      "source ~/.bash_profile\n",
      "module load python/3.9\n",
      "\n",
      "\n",
      "Категория: path_modifications\n",
      "Сходство: 0.98\n",
      "Содержание:\n",
      "export PATH=$PATH:/usr/local/bin\n",
      "\n",
      "\n",
      "Категория: other\n",
      "Сходство: 0.95\n",
      "Содержание:\n",
      "echo \"Welcome to the system!\"\n",
      "\n"
     ]
    }
   ],
   "source": [
    "anomalies = analyze_bashrc(bashrc_content, incorrect_examples)\n",
    "\n",
    "print(\"Анализ .bashrc файла:\")\n",
    "if anomalies:\n",
    "    print(\"Обнаружены аномалии:\")\n",
    "    for category, category_anomalies in anomalies.items():\n",
    "        print(f\"\\nКатегория: {category}\")\n",
    "        for content, similarity in category_anomalies:\n",
    "            print(f\"Сходство: {similarity:.2f}\")\n",
    "            print(f\"Содержание:\\n{content}\\n\")\n",
    "else:\n",
    "    print(\"Аномалий не обнаружено.\")"
   ]
  },
  {
   "cell_type": "code",
   "execution_count": 6,
   "id": "a4e046d7-6c85-40a9-b0c7-fdd171ce769f",
   "metadata": {},
   "outputs": [
    {
     "data": {
      "image/png": "[encoded data removed]",
      "text/plain": [
       "<Figure size 1000x600 with 1 Axes>"
      ]
     },
     "metadata": {},
     "output_type": "display_data"
    }
   ],
   "source": [
    "def plot_anomalies(anomalies):\n",
    "    categories = list(anomalies.keys())\n",
    "    similarities = [max(sim for _, sim in anoms) for anoms in anomalies.values()]\n",
    "    \n",
    "    plt.figure(figsize=(10, 6))\n",
    "    sns.barplot(x=categories, y=similarities)\n",
    "    plt.title('Максимальное сходство аномалий по категориям')\n",
    "    plt.xlabel('Категории')\n",
    "    plt.ylabel('Максимальное сходство')\n",
    "    plt.xticks(rotation=45)\n",
    "    plt.tight_layout()\n",
    "    plt.show()\n",
    "\n",
    "if anomalies:\n",
    "    plot_anomalies(anomalies)"
   ]
  },
  {
   "cell_type": "code",
   "execution_count": null,
   "id": "ded7dc45-0bc9-48b4-90aa-2d032f3d4185",
   "metadata": {},
   "outputs": [],
   "source": []
  }
 ],
 "metadata": {
  "kernelspec": {
   "display_name": "Python 3 (ipykernel)",
   "language": "python",
   "name": "python3"
  },
  "language_info": {
   "codemirror_mode": {
    "name": "ipython",
    "version": 3
   },
   "file_extension": ".py",
   "mimetype": "text/x-python",
   "name": "python",
   "nbconvert_exporter": "python",
   "pygments_lexer": "ipython3",
   "version": "3.9.7"
  }
 },
 "nbformat": 4,
 "nbformat_minor": 5
}
